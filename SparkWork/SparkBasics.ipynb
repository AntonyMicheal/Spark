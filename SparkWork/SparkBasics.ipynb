{
  "nbformat": 4,
  "nbformat_minor": 0,
  "metadata": {
    "colab": {
      "provenance": [],
      "collapsed_sections": []
    },
    "kernelspec": {
      "name": "python3",
      "display_name": "Python 3"
    },
    "language_info": {
      "name": "python"
    }
  },
  "cells": [
    {
      "cell_type": "markdown",
      "source": [
        "# ***Spark Basics***"
      ],
      "metadata": {
        "id": "VfQ_1X5ws0N8"
      }
    },
    {
      "cell_type": "code",
      "execution_count": 1,
      "metadata": {
        "colab": {
          "base_uri": "https://localhost:8080/"
        },
        "id": "md7WGJS4ZaH9",
        "outputId": "d2b3f55d-568b-4d9f-f1ce-baf378654b54"
      },
      "outputs": [
        {
          "output_type": "stream",
          "name": "stdout",
          "text": [
            "Mounted at /content/drive\n"
          ]
        }
      ],
      "source": [
        "from google.colab import drive\n",
        "drive.mount('/content/drive')"
      ]
    },
    {
      "cell_type": "markdown",
      "source": [
        "### ***Installing Pyspark environment on Google Colab***\n",
        "\n",
        "\n"
      ],
      "metadata": {
        "id": "jBTZjmrJtCpa"
      }
    },
    {
      "cell_type": "code",
      "source": [
        "!pip install pyspark py4j"
      ],
      "metadata": {
        "colab": {
          "base_uri": "https://localhost:8080/"
        },
        "id": "JuAPM6yKd-u4",
        "outputId": "3f4da4dd-3891-4067-e0fa-4356a4ac7233"
      },
      "execution_count": 2,
      "outputs": [
        {
          "output_type": "stream",
          "name": "stdout",
          "text": [
            "Looking in indexes: https://pypi.org/simple, https://us-python.pkg.dev/colab-wheels/public/simple/\n",
            "Collecting pyspark\n",
            "  Downloading pyspark-3.3.1.tar.gz (281.4 MB)\n",
            "\u001b[K     |████████████████████████████████| 281.4 MB 56 kB/s \n",
            "\u001b[?25hCollecting py4j\n",
            "  Downloading py4j-0.10.9.7-py2.py3-none-any.whl (200 kB)\n",
            "\u001b[K     |████████████████████████████████| 200 kB 57.3 MB/s \n",
            "\u001b[?25h  Downloading py4j-0.10.9.5-py2.py3-none-any.whl (199 kB)\n",
            "\u001b[K     |████████████████████████████████| 199 kB 78.8 MB/s \n",
            "\u001b[?25hBuilding wheels for collected packages: pyspark\n",
            "  Building wheel for pyspark (setup.py) ... \u001b[?25l\u001b[?25hdone\n",
            "  Created wheel for pyspark: filename=pyspark-3.3.1-py2.py3-none-any.whl size=281845514 sha256=46347fd7bf390892a40882a525e26929435de9ba7a5b47d04f446fe741d1a350\n",
            "  Stored in directory: /root/.cache/pip/wheels/42/59/f5/79a5bf931714dcd201b26025347785f087370a10a3329a899c\n",
            "Successfully built pyspark\n",
            "Installing collected packages: py4j, pyspark\n",
            "Successfully installed py4j-0.10.9.5 pyspark-3.3.1\n"
          ]
        }
      ]
    },
    {
      "cell_type": "markdown",
      "source": [
        "### **Starting a Spark Session**"
      ],
      "metadata": {
        "id": "5qssJ6hXtTJp"
      }
    },
    {
      "cell_type": "code",
      "source": [
        "from pyspark.sql import SparkSession"
      ],
      "metadata": {
        "id": "ZHppB1bHeLOg"
      },
      "execution_count": 3,
      "outputs": []
    },
    {
      "cell_type": "code",
      "source": [
        "spark = SparkSession.builder.appName('Basics').getOrCreate()"
      ],
      "metadata": {
        "id": "ZeBNfR0DeP8Y"
      },
      "execution_count": 4,
      "outputs": []
    },
    {
      "cell_type": "markdown",
      "source": [
        "### ***Reading data***"
      ],
      "metadata": {
        "id": "_iKauo3TtbHh"
      }
    },
    {
      "cell_type": "code",
      "source": [
        "df = spark.read.json(\"/content/drive/MyDrive/SparkWork/SparkDoc/people1.json\")"
      ],
      "metadata": {
        "id": "YfYMTAFNgpmI"
      },
      "execution_count": 17,
      "outputs": []
    },
    {
      "cell_type": "markdown",
      "source": [
        "\n",
        "### ***Show - Used for showing the contents of dataframe***"
      ],
      "metadata": {
        "id": "X8W5RiLktgjZ"
      }
    },
    {
      "cell_type": "code",
      "source": [
        "df.show()"
      ],
      "metadata": {
        "colab": {
          "base_uri": "https://localhost:8080/"
        },
        "id": "lHAnUSqzeR5I",
        "outputId": "f646b6e4-a8fb-4e5a-afbc-b4cfcc0106c4"
      },
      "execution_count": 18,
      "outputs": [
        {
          "output_type": "stream",
          "name": "stdout",
          "text": [
            "+----+-------+\n",
            "| age|   name|\n",
            "+----+-------+\n",
            "|null|Michael|\n",
            "|  30|   Andy|\n",
            "|  19| Justin|\n",
            "+----+-------+\n",
            "\n"
          ]
        }
      ]
    },
    {
      "cell_type": "markdown",
      "source": [
        "### ***To display column names***"
      ],
      "metadata": {
        "id": "SjGnuoeJtmmR"
      }
    },
    {
      "cell_type": "code",
      "source": [
        "df.columns"
      ],
      "metadata": {
        "colab": {
          "base_uri": "https://localhost:8080/"
        },
        "id": "tq0Mqn8fi4gt",
        "outputId": "c972ea26-90da-4442-b242-cd4d65a9ba90"
      },
      "execution_count": 24,
      "outputs": [
        {
          "output_type": "execute_result",
          "data": {
            "text/plain": [
              "['age', 'name']"
            ]
          },
          "metadata": {},
          "execution_count": 24
        }
      ]
    },
    {
      "cell_type": "markdown",
      "source": [
        "### ***printing Schema of dataframe***\n",
        "\n",
        "*   We can know the schema of the data that we are using using this statement which include the type of data (int, String, etc.) and if its nullable or not.\n",
        "\n"
      ],
      "metadata": {
        "id": "EewIluk4ufWS"
      }
    },
    {
      "cell_type": "code",
      "source": [
        "df.printSchema()"
      ],
      "metadata": {
        "colab": {
          "base_uri": "https://localhost:8080/"
        },
        "id": "ECtxxUy9su4a",
        "outputId": "07d84954-52bc-4a27-e0bf-55cc85bc57d8"
      },
      "execution_count": 25,
      "outputs": [
        {
          "output_type": "stream",
          "name": "stdout",
          "text": [
            "root\n",
            " |-- age: long (nullable = true)\n",
            " |-- name: string (nullable = true)\n",
            "\n"
          ]
        }
      ]
    },
    {
      "cell_type": "markdown",
      "source": [
        "### **Describe**\n",
        "\n",
        "\n",
        "*   Returns a dataframe which consist of statistical features of numerical data present on the dataframe.\n",
        "*   show() can be used to see this dataframe, without using show(), it only returns a dataframe object that will give us details about the datatype of columns and column names.\n",
        "\n"
      ],
      "metadata": {
        "id": "QxrqEsc4vYih"
      }
    },
    {
      "cell_type": "code",
      "source": [
        "df.describe()"
      ],
      "metadata": {
        "colab": {
          "base_uri": "https://localhost:8080/"
        },
        "id": "ifvKYHp-uoAK",
        "outputId": "21109ce2-c761-4699-a12d-6ccbdd01c070"
      },
      "execution_count": 27,
      "outputs": [
        {
          "output_type": "execute_result",
          "data": {
            "text/plain": [
              "DataFrame[summary: string, age: string, name: string]"
            ]
          },
          "metadata": {},
          "execution_count": 27
        }
      ]
    },
    {
      "cell_type": "code",
      "source": [
        "df.describe().show()"
      ],
      "metadata": {
        "colab": {
          "base_uri": "https://localhost:8080/"
        },
        "id": "XOCmCS_IvVUq",
        "outputId": "c5e27058-7733-4fb5-aa29-1bb20010825e"
      },
      "execution_count": 28,
      "outputs": [
        {
          "output_type": "stream",
          "name": "stdout",
          "text": [
            "+-------+------------------+-------+\n",
            "|summary|               age|   name|\n",
            "+-------+------------------+-------+\n",
            "|  count|                 2|      3|\n",
            "|   mean|              24.5|   null|\n",
            "| stddev|7.7781745930520225|   null|\n",
            "|    min|                19|   Andy|\n",
            "|    max|                30|Michael|\n",
            "+-------+------------------+-------+\n",
            "\n"
          ]
        }
      ]
    },
    {
      "cell_type": "markdown",
      "source": [
        "## **Creating a new schema for dataframes**\n",
        "\n",
        "\n",
        "*   The data that we get for processing need not be all neet (incomplete / Damaged Schema), But we need a clear Schema in order to process data and come to good conclusions\n",
        "*  So we need to clarify the schema ie- we need to specify what columns are Strings what columns are integers etc.\n",
        "* To do that we need some type tools.\n",
        "\n"
      ],
      "metadata": {
        "id": "qTlvXjvozeMZ"
      }
    },
    {
      "cell_type": "markdown",
      "source": [
        "**Importing typetools**"
      ],
      "metadata": {
        "id": "ceRp4XPh2Kzv"
      }
    },
    {
      "cell_type": "code",
      "source": [
        "from pyspark.sql.types import StructField, StringType, IntegerType, StructType\n"
      ],
      "metadata": {
        "id": "4-LkxPW0vxAJ"
      },
      "execution_count": 30,
      "outputs": []
    },
    {
      "cell_type": "markdown",
      "source": [
        "**Specifying new Schema**"
      ],
      "metadata": {
        "id": "otiWuEfk2PmP"
      }
    },
    {
      "cell_type": "code",
      "source": [
        "data_schema = [StructField('age', IntegerType(), True), StructField('name', StringType(), True)]"
      ],
      "metadata": {
        "id": "t3vIb6Xk1DvY"
      },
      "execution_count": 31,
      "outputs": []
    },
    {
      "cell_type": "markdown",
      "source": [
        "**Creating new SchemaStructure**"
      ],
      "metadata": {
        "id": "UDm4jHKc2XOW"
      }
    },
    {
      "cell_type": "code",
      "source": [
        "final_struc = StructType(fields = data_schema)"
      ],
      "metadata": {
        "id": "NMa9MNmj1Yqv"
      },
      "execution_count": 34,
      "outputs": []
    },
    {
      "cell_type": "markdown",
      "source": [
        "**creating a new dataframe using new Schema and checking the schema**"
      ],
      "metadata": {
        "id": "U1r18Igv2kQe"
      }
    },
    {
      "cell_type": "code",
      "source": [
        "df = spark.read.json(\"/content/drive/MyDrive/SparkWork/SparkDoc/people1.json\", schema = final_struc)"
      ],
      "metadata": {
        "id": "3xR2GhVm1lUm"
      },
      "execution_count": 36,
      "outputs": []
    },
    {
      "cell_type": "code",
      "source": [
        "df.printSchema()"
      ],
      "metadata": {
        "colab": {
          "base_uri": "https://localhost:8080/"
        },
        "id": "LRmlog_h111n",
        "outputId": "391d4f3c-7ee5-4428-bd08-0b26bac32b10"
      },
      "execution_count": 38,
      "outputs": [
        {
          "output_type": "stream",
          "name": "stdout",
          "text": [
            "root\n",
            " |-- age: integer (nullable = true)\n",
            " |-- name: string (nullable = true)\n",
            "\n"
          ]
        }
      ]
    },
    {
      "cell_type": "code",
      "source": [
        "df.show()"
      ],
      "metadata": {
        "colab": {
          "base_uri": "https://localhost:8080/"
        },
        "id": "q8uPDYPb1-re",
        "outputId": "4ffc7d2c-fc23-45fb-c7f0-069090f1b1be"
      },
      "execution_count": 39,
      "outputs": [
        {
          "output_type": "stream",
          "name": "stdout",
          "text": [
            "+----+-------+\n",
            "| age|   name|\n",
            "+----+-------+\n",
            "|null|Michael|\n",
            "|  30|   Andy|\n",
            "|  19| Justin|\n",
            "+----+-------+\n",
            "\n"
          ]
        }
      ]
    },
    {
      "cell_type": "markdown",
      "source": [
        "### ***Select - Used for selecting particular colmns of data from the dataframe***\n",
        "\n",
        "\n",
        "*   Returns a new dataframe\n",
        "\n"
      ],
      "metadata": {
        "id": "FJIsMsck7a-F"
      }
    },
    {
      "cell_type": "code",
      "source": [
        "df.select('age')"
      ],
      "metadata": {
        "colab": {
          "base_uri": "https://localhost:8080/"
        },
        "id": "2mOxDMhe7PZG",
        "outputId": "4bb6e52a-0d04-430c-a9a6-946733fbe85d"
      },
      "execution_count": 40,
      "outputs": [
        {
          "output_type": "execute_result",
          "data": {
            "text/plain": [
              "DataFrame[age: int]"
            ]
          },
          "metadata": {},
          "execution_count": 40
        }
      ]
    },
    {
      "cell_type": "code",
      "source": [
        "df.select('age').show()"
      ],
      "metadata": {
        "colab": {
          "base_uri": "https://localhost:8080/"
        },
        "id": "QmXR4hwi7k19",
        "outputId": "74e08125-0cd1-4021-ed95-9939c74eeae7"
      },
      "execution_count": 41,
      "outputs": [
        {
          "output_type": "stream",
          "name": "stdout",
          "text": [
            "+----+\n",
            "| age|\n",
            "+----+\n",
            "|null|\n",
            "|  30|\n",
            "|  19|\n",
            "+----+\n",
            "\n"
          ]
        }
      ]
    },
    {
      "cell_type": "code",
      "source": [
        "df.select(['age', 'name']).show()"
      ],
      "metadata": {
        "colab": {
          "base_uri": "https://localhost:8080/"
        },
        "id": "vGk7gapS8axE",
        "outputId": "64a159b8-c9e4-457c-9879-c6b68227fd02"
      },
      "execution_count": 49,
      "outputs": [
        {
          "output_type": "stream",
          "name": "stdout",
          "text": [
            "+----+-------+\n",
            "| age|   name|\n",
            "+----+-------+\n",
            "|null|Michael|\n",
            "|  30|   Andy|\n",
            "|  19| Justin|\n",
            "+----+-------+\n",
            "\n"
          ]
        }
      ]
    },
    {
      "cell_type": "markdown",
      "source": [
        "***Head - Returns a row object not dataframe object***"
      ],
      "metadata": {
        "id": "a9j6INVL8Roe"
      }
    },
    {
      "cell_type": "code",
      "source": [
        "df.head(2)[1]"
      ],
      "metadata": {
        "colab": {
          "base_uri": "https://localhost:8080/"
        },
        "id": "u8jDQ-fm7o17",
        "outputId": "5b934e36-0555-47da-a8ce-618984faf7b6"
      },
      "execution_count": 46,
      "outputs": [
        {
          "output_type": "execute_result",
          "data": {
            "text/plain": [
              "Row(age=30, name='Andy')"
            ]
          },
          "metadata": {},
          "execution_count": 46
        }
      ]
    },
    {
      "cell_type": "markdown",
      "source": [
        "## ***Adding a column or replacing an existing column***\n",
        "\n",
        "\n",
        "1.   withColumn()\n",
        "2.   withColumnRenamed()\n",
        "\n"
      ],
      "metadata": {
        "id": "tKcCqcsU8yFk"
      }
    },
    {
      "cell_type": "code",
      "source": [
        "df.withColumn('new_age', df['age']).show()"
      ],
      "metadata": {
        "colab": {
          "base_uri": "https://localhost:8080/"
        },
        "id": "h1Pcvu9Y8CaN",
        "outputId": "f034eef9-a028-4909-a2c9-b6fba74462b9"
      },
      "execution_count": 51,
      "outputs": [
        {
          "output_type": "stream",
          "name": "stdout",
          "text": [
            "+----+-------+-------+\n",
            "| age|   name|new_age|\n",
            "+----+-------+-------+\n",
            "|null|Michael|   null|\n",
            "|  30|   Andy|     30|\n",
            "|  19| Justin|     19|\n",
            "+----+-------+-------+\n",
            "\n"
          ]
        }
      ]
    },
    {
      "cell_type": "code",
      "source": [
        "df.withColumn('new_age', df['age']).show()"
      ],
      "metadata": {
        "colab": {
          "base_uri": "https://localhost:8080/"
        },
        "id": "Ow4RyrMj9CS7",
        "outputId": "80d2586d-6de4-4480-f021-82dc0e99c5eb"
      },
      "execution_count": 53,
      "outputs": [
        {
          "output_type": "stream",
          "name": "stdout",
          "text": [
            "+----+-------+-------+\n",
            "| age|   name|new_age|\n",
            "+----+-------+-------+\n",
            "|null|Michael|   null|\n",
            "|  30|   Andy|     30|\n",
            "|  19| Justin|     19|\n",
            "+----+-------+-------+\n",
            "\n"
          ]
        }
      ]
    },
    {
      "cell_type": "code",
      "source": [
        "df.withColumn('double_age', df['age']*2).show()"
      ],
      "metadata": {
        "colab": {
          "base_uri": "https://localhost:8080/"
        },
        "id": "wgnp4KkH9IMy",
        "outputId": "32603db7-b0ef-47d2-9fab-7822f4a75b96"
      },
      "execution_count": 55,
      "outputs": [
        {
          "output_type": "stream",
          "name": "stdout",
          "text": [
            "+----+-------+----------+\n",
            "| age|   name|double_age|\n",
            "+----+-------+----------+\n",
            "|null|Michael|      null|\n",
            "|  30|   Andy|        60|\n",
            "|  19| Justin|        38|\n",
            "+----+-------+----------+\n",
            "\n"
          ]
        }
      ]
    },
    {
      "cell_type": "code",
      "source": [
        "df.withColumnRenamed('age', 'Years_old').show()"
      ],
      "metadata": {
        "colab": {
          "base_uri": "https://localhost:8080/"
        },
        "id": "_0RZdQNO9QC5",
        "outputId": "a76bda3f-4203-422b-adfb-bd6314cb85d5"
      },
      "execution_count": 57,
      "outputs": [
        {
          "output_type": "stream",
          "name": "stdout",
          "text": [
            "+---------+-------+\n",
            "|Years_old|   name|\n",
            "+---------+-------+\n",
            "|     null|Michael|\n",
            "|       30|   Andy|\n",
            "|       19| Justin|\n",
            "+---------+-------+\n",
            "\n"
          ]
        }
      ]
    },
    {
      "cell_type": "markdown",
      "source": [
        "***We can use sql on spark data frames but we need register the dataframe as a sql temporary view***"
      ],
      "metadata": {
        "id": "0E7eRC0uD59G"
      }
    },
    {
      "cell_type": "markdown",
      "source": [
        "'people' is the temporary view name of dataframe."
      ],
      "metadata": {
        "id": "lx8nkj9DEPfa"
      }
    },
    {
      "cell_type": "code",
      "source": [
        "df.createOrReplaceTempView('people')"
      ],
      "metadata": {
        "id": "0WvGvKy49oVf"
      },
      "execution_count": 59,
      "outputs": []
    },
    {
      "cell_type": "code",
      "source": [
        "results = spark.sql(\"SELECT * FROM people\")"
      ],
      "metadata": {
        "id": "QLHIlHzeEVLB"
      },
      "execution_count": 60,
      "outputs": []
    },
    {
      "cell_type": "code",
      "source": [
        "results.show()"
      ],
      "metadata": {
        "colab": {
          "base_uri": "https://localhost:8080/"
        },
        "id": "oj6ciPinEayU",
        "outputId": "e0ee5fdc-3aac-4e01-d7f9-4b91df9ed69c"
      },
      "execution_count": 62,
      "outputs": [
        {
          "output_type": "stream",
          "name": "stdout",
          "text": [
            "+----+-------+\n",
            "| age|   name|\n",
            "+----+-------+\n",
            "|null|Michael|\n",
            "|  30|   Andy|\n",
            "|  19| Justin|\n",
            "+----+-------+\n",
            "\n"
          ]
        }
      ]
    },
    {
      "cell_type": "code",
      "source": [
        "new_result = spark.sql(\"select * from people where age = 30\")"
      ],
      "metadata": {
        "id": "x5pp99EKElHM"
      },
      "execution_count": 63,
      "outputs": []
    },
    {
      "cell_type": "code",
      "source": [
        "new_result.show()"
      ],
      "metadata": {
        "colab": {
          "base_uri": "https://localhost:8080/"
        },
        "id": "BtQ2C2jKEwSk",
        "outputId": "cd65d6e8-611c-4952-dc85-2b2c9ac03e1a"
      },
      "execution_count": 64,
      "outputs": [
        {
          "output_type": "stream",
          "name": "stdout",
          "text": [
            "+---+----+\n",
            "|age|name|\n",
            "+---+----+\n",
            "| 30|Andy|\n",
            "+---+----+\n",
            "\n"
          ]
        }
      ]
    },
    {
      "cell_type": "code",
      "source": [
        "new_result = spark.sql(\"select name from people where age = 30\")"
      ],
      "metadata": {
        "id": "gz1yQLBxEzKN"
      },
      "execution_count": 65,
      "outputs": []
    },
    {
      "cell_type": "code",
      "source": [
        "new_result.show()"
      ],
      "metadata": {
        "colab": {
          "base_uri": "https://localhost:8080/"
        },
        "id": "XfwzrsPUFMRT",
        "outputId": "9f605a4c-94fb-4a89-f26a-075fa94d253d"
      },
      "execution_count": 66,
      "outputs": [
        {
          "output_type": "stream",
          "name": "stdout",
          "text": [
            "+----+\n",
            "|name|\n",
            "+----+\n",
            "|Andy|\n",
            "+----+\n",
            "\n"
          ]
        }
      ]
    },
    {
      "cell_type": "code",
      "source": [],
      "metadata": {
        "id": "1wsUilMEFOHy"
      },
      "execution_count": null,
      "outputs": []
    }
  ]
}