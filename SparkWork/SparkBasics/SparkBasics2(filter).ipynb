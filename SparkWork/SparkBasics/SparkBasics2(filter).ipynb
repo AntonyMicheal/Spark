{
  "nbformat": 4,
  "nbformat_minor": 0,
  "metadata": {
    "colab": {
      "provenance": [],
      "collapsed_sections": []
    },
    "kernelspec": {
      "name": "python3",
      "display_name": "Python 3"
    },
    "language_info": {
      "name": "python"
    }
  },
  "cells": [
    {
      "cell_type": "code",
      "execution_count": 1,
      "metadata": {
        "colab": {
          "base_uri": "https://localhost:8080/"
        },
        "id": "TbnasLc-6FJQ",
        "outputId": "09f4c5d1-5202-4f7b-a142-9894f3a7f76d"
      },
      "outputs": [
        {
          "output_type": "stream",
          "name": "stdout",
          "text": [
            "Mounted at /content/drive\n"
          ]
        }
      ],
      "source": [
        "from google.colab import drive\n",
        "drive.mount('/content/drive')"
      ]
    },
    {
      "cell_type": "code",
      "source": [
        "!pip install pyspark py4j"
      ],
      "metadata": {
        "colab": {
          "base_uri": "https://localhost:8080/"
        },
        "id": "Dxbeilky6iLr",
        "outputId": "d054d681-485b-4e15-aff3-d18f55feddda"
      },
      "execution_count": 3,
      "outputs": [
        {
          "output_type": "stream",
          "name": "stdout",
          "text": [
            "Looking in indexes: https://pypi.org/simple, https://us-python.pkg.dev/colab-wheels/public/simple/\n",
            "Collecting pyspark\n",
            "  Downloading pyspark-3.3.1.tar.gz (281.4 MB)\n",
            "\u001b[K     |████████████████████████████████| 281.4 MB 56 kB/s \n",
            "\u001b[?25hCollecting py4j\n",
            "  Downloading py4j-0.10.9.7-py2.py3-none-any.whl (200 kB)\n",
            "\u001b[K     |████████████████████████████████| 200 kB 68.4 MB/s \n",
            "\u001b[?25h  Downloading py4j-0.10.9.5-py2.py3-none-any.whl (199 kB)\n",
            "\u001b[K     |████████████████████████████████| 199 kB 87.7 MB/s \n",
            "\u001b[?25hBuilding wheels for collected packages: pyspark\n",
            "  Building wheel for pyspark (setup.py) ... \u001b[?25l\u001b[?25hdone\n",
            "  Created wheel for pyspark: filename=pyspark-3.3.1-py2.py3-none-any.whl size=281845514 sha256=ad54161c1cce6aed333e9d14f1ffcb2bcf2c20d71e13e370e3cbc04fef4e3376\n",
            "  Stored in directory: /root/.cache/pip/wheels/42/59/f5/79a5bf931714dcd201b26025347785f087370a10a3329a899c\n",
            "Successfully built pyspark\n",
            "Installing collected packages: py4j, pyspark\n",
            "Successfully installed py4j-0.10.9.5 pyspark-3.3.1\n"
          ]
        }
      ]
    },
    {
      "cell_type": "code",
      "source": [
        "from pyspark.sql import SparkSession"
      ],
      "metadata": {
        "id": "RBQqxcna6mka"
      },
      "execution_count": 4,
      "outputs": []
    },
    {
      "cell_type": "code",
      "source": [
        "spark = SparkSession.builder.appName('ops').getOrCreate()"
      ],
      "metadata": {
        "id": "560pGxiS66N9"
      },
      "execution_count": 5,
      "outputs": []
    },
    {
      "cell_type": "code",
      "source": [
        "df = spark.read.csv(\"/content/drive/MyDrive/SparkWork/SparkDoc/aapl.csv\", inferSchema=True, header=True)"
      ],
      "metadata": {
        "id": "pmisMr8XGJXj"
      },
      "execution_count": 15,
      "outputs": []
    },
    {
      "cell_type": "code",
      "source": [
        "df.show()"
      ],
      "metadata": {
        "colab": {
          "base_uri": "https://localhost:8080/"
        },
        "id": "4mvUTSPiHIqA",
        "outputId": "6731bf76-6d0e-4e23-9301-9959afabee11"
      },
      "execution_count": 16,
      "outputs": [
        {
          "output_type": "stream",
          "name": "stdout",
          "text": [
            "+-------------------+------+------+------+------+--------+---------+\n",
            "|               Date|  Open|  High|   Low| Close|  Volume|Adj Close|\n",
            "+-------------------+------+------+------+------+--------+---------+\n",
            "|2008-10-14 00:00:00|116.26| 116.4|103.14|104.08|70749800|   104.08|\n",
            "|2008-10-13 00:00:00|104.55|110.53|101.02|110.26|54967000|   110.26|\n",
            "|2008-10-10 00:00:00|  85.7| 100.0|  85.0|  96.8|79260700|     96.8|\n",
            "|2008-10-09 00:00:00| 93.35|  95.8|  86.6| 88.74|57763700|    88.74|\n",
            "|2008-10-08 00:00:00| 85.91| 96.33| 85.68| 89.79|78847900|    89.79|\n",
            "|2008-10-07 00:00:00|100.48| 101.5| 88.95| 89.16|67099000|    89.16|\n",
            "|2008-10-06 00:00:00| 91.96| 98.78| 87.54| 98.14|75264900|    98.14|\n",
            "|2008-10-03 00:00:00| 104.0| 106.5| 94.65| 97.07|81942800|    97.07|\n",
            "|2008-10-02 00:00:00|108.01|108.79| 100.0| 100.1|57477300|    100.1|\n",
            "|2008-10-01 00:00:00|111.92|112.36|107.39|109.12|46303000|   109.12|\n",
            "|2008-09-30 00:00:00|108.25| 115.0| 106.3|113.66|58095800|   113.66|\n",
            "|2008-09-29 00:00:00|119.62|119.68|100.59|105.26|93581400|   105.26|\n",
            "|2008-09-26 00:00:00|124.91| 129.8| 123.0|128.24|40208700|   128.24|\n",
            "|2008-09-25 00:00:00| 129.8|134.79|128.52|131.93|35865600|   131.93|\n",
            "|2008-09-24 00:00:00|127.27|130.95|125.15|128.71|37393400|   128.71|\n",
            "|2008-09-23 00:00:00|131.85| 135.8|126.66|126.84|45727300|   126.84|\n",
            "|2008-09-22 00:00:00|139.94|140.25|130.66|131.05|30577300|   131.05|\n",
            "|2008-09-19 00:00:00| 142.6| 144.2|136.31|140.91|51102700|   140.91|\n",
            "|2008-09-18 00:00:00|130.57|135.43|120.68|134.09|59819300|   134.09|\n",
            "|2008-09-17 00:00:00|138.49|138.51|127.83|127.83|42847200|   127.83|\n",
            "+-------------------+------+------+------+------+--------+---------+\n",
            "only showing top 20 rows\n",
            "\n"
          ]
        }
      ]
    },
    {
      "cell_type": "code",
      "source": [
        "df.printSchema()"
      ],
      "metadata": {
        "colab": {
          "base_uri": "https://localhost:8080/"
        },
        "id": "FhrrgF9BHLGc",
        "outputId": "03a82501-039e-4de7-f8b6-8f17ae79c03b"
      },
      "execution_count": 17,
      "outputs": [
        {
          "output_type": "stream",
          "name": "stdout",
          "text": [
            "root\n",
            " |-- Date: timestamp (nullable = true)\n",
            " |-- Open: double (nullable = true)\n",
            " |-- High: double (nullable = true)\n",
            " |-- Low: double (nullable = true)\n",
            " |-- Close: double (nullable = true)\n",
            " |-- Volume: integer (nullable = true)\n",
            " |-- Adj Close: double (nullable = true)\n",
            "\n"
          ]
        }
      ]
    },
    {
      "cell_type": "code",
      "source": [
        "df.describe().show()"
      ],
      "metadata": {
        "colab": {
          "base_uri": "https://localhost:8080/"
        },
        "id": "50kxMl6AIK8x",
        "outputId": "9620b842-5ee2-4eef-cc6b-ab169d98f279"
      },
      "execution_count": 18,
      "outputs": [
        {
          "output_type": "stream",
          "name": "stdout",
          "text": [
            "+-------+-----------------+------------------+-----------------+------------------+--------------------+------------------+\n",
            "|summary|             Open|              High|              Low|             Close|              Volume|         Adj Close|\n",
            "+-------+-----------------+------------------+-----------------+------------------+--------------------+------------------+\n",
            "|  count|             6081|              6081|             6081|              6081|                6081|              6081|\n",
            "|   mean|46.82351093570132|47.681506331195564|45.91359480348622|46.798618648248734|  1.36398640684098E7|23.529794441703633|\n",
            "| stddev|33.99351710867853|34.578077150719686|33.27310568082934| 33.94723505279488|1.3521074474193025E7| 37.37560090267473|\n",
            "|    min|            12.88|             13.19|            12.72|             12.94|               88800|              1.65|\n",
            "|    max|           200.59|            202.96|            197.8|            199.83|           265069000|            199.83|\n",
            "+-------+-----------------+------------------+-----------------+------------------+--------------------+------------------+\n",
            "\n"
          ]
        }
      ]
    },
    {
      "cell_type": "code",
      "source": [
        "df.head(3)[2]"
      ],
      "metadata": {
        "colab": {
          "base_uri": "https://localhost:8080/"
        },
        "id": "OG6Tl3jdIO5w",
        "outputId": "e3259236-9a08-4c8f-8e1d-cc4d15c143db"
      },
      "execution_count": 23,
      "outputs": [
        {
          "output_type": "execute_result",
          "data": {
            "text/plain": [
              "Row(Date=datetime.datetime(2008, 10, 10, 0, 0), Open=85.7, High=100.0, Low=85.0, Close=96.8, Volume=79260700, Adj Close=96.8)"
            ]
          },
          "metadata": {},
          "execution_count": 23
        }
      ]
    },
    {
      "cell_type": "markdown",
      "source": [
        "Filter command\n",
        "\n",
        "\n",
        "*   Using SQL\n",
        "*   Using dataframe command\n",
        "\n"
      ],
      "metadata": {
        "id": "0Q6rhi7rKLZP"
      }
    },
    {
      "cell_type": "markdown",
      "source": [
        "**same results in the following two cells.**"
      ],
      "metadata": {
        "id": "cL8aSuyYK4tX"
      }
    },
    {
      "cell_type": "code",
      "source": [
        "df.filter(\"close < 500\").select('open', 'close').show()"
      ],
      "metadata": {
        "colab": {
          "base_uri": "https://localhost:8080/"
        },
        "id": "yoFuuE-oJ55R",
        "outputId": "6bc78de9-b68e-4b5e-c698-250609236770"
      },
      "execution_count": 27,
      "outputs": [
        {
          "output_type": "stream",
          "name": "stdout",
          "text": [
            "+------+------+\n",
            "|  open| close|\n",
            "+------+------+\n",
            "|116.26|104.08|\n",
            "|104.55|110.26|\n",
            "|  85.7|  96.8|\n",
            "| 93.35| 88.74|\n",
            "| 85.91| 89.79|\n",
            "|100.48| 89.16|\n",
            "| 91.96| 98.14|\n",
            "| 104.0| 97.07|\n",
            "|108.01| 100.1|\n",
            "|111.92|109.12|\n",
            "|108.25|113.66|\n",
            "|119.62|105.26|\n",
            "|124.91|128.24|\n",
            "| 129.8|131.93|\n",
            "|127.27|128.71|\n",
            "|131.85|126.84|\n",
            "|139.94|131.05|\n",
            "| 142.6|140.91|\n",
            "|130.57|134.09|\n",
            "|138.49|127.83|\n",
            "+------+------+\n",
            "only showing top 20 rows\n",
            "\n"
          ]
        }
      ]
    },
    {
      "cell_type": "code",
      "source": [
        "df.filter(df['close']<500).select('open', 'close').show()"
      ],
      "metadata": {
        "colab": {
          "base_uri": "https://localhost:8080/"
        },
        "id": "zWXMDs6wKWBb",
        "outputId": "6716f8f4-a6ec-4907-f1ca-0e0bfe3e546c"
      },
      "execution_count": 29,
      "outputs": [
        {
          "output_type": "stream",
          "name": "stdout",
          "text": [
            "+------+------+\n",
            "|  open| close|\n",
            "+------+------+\n",
            "|116.26|104.08|\n",
            "|104.55|110.26|\n",
            "|  85.7|  96.8|\n",
            "| 93.35| 88.74|\n",
            "| 85.91| 89.79|\n",
            "|100.48| 89.16|\n",
            "| 91.96| 98.14|\n",
            "| 104.0| 97.07|\n",
            "|108.01| 100.1|\n",
            "|111.92|109.12|\n",
            "|108.25|113.66|\n",
            "|119.62|105.26|\n",
            "|124.91|128.24|\n",
            "| 129.8|131.93|\n",
            "|127.27|128.71|\n",
            "|131.85|126.84|\n",
            "|139.94|131.05|\n",
            "| 142.6|140.91|\n",
            "|130.57|134.09|\n",
            "|138.49|127.83|\n",
            "+------+------+\n",
            "only showing top 20 rows\n",
            "\n"
          ]
        }
      ]
    },
    {
      "cell_type": "markdown",
      "source": [
        "### ***Q: \"Grab all the rows that have a closing price less than 200 and open price greater than 200\"***\n",
        "\n",
        "\n",
        "\n",
        "*   and will not work in spark dataframe operation instead use '&' or => '|' not => \"~\"\n",
        "*   In case of multiple condiations, isolate the conditions by enclosing them with a closed bracket().\n",
        "\n"
      ],
      "metadata": {
        "id": "qVkVMIp1LRD_"
      }
    },
    {
      "cell_type": "markdown",
      "source": [
        "# ***and***"
      ],
      "metadata": {
        "id": "T71QdPNcM3U0"
      }
    },
    {
      "cell_type": "code",
      "source": [
        "df.filter((df['close'] < 200) & (df['open'] > 200) ).show()"
      ],
      "metadata": {
        "colab": {
          "base_uri": "https://localhost:8080/"
        },
        "id": "kZomJA6-K0am",
        "outputId": "5ab2f04c-c2ee-400b-da18-a81e65ebec5b"
      },
      "execution_count": 31,
      "outputs": [
        {
          "output_type": "stream",
          "name": "stdout",
          "text": [
            "+-------------------+------+------+------+------+--------+---------+\n",
            "|               Date|  Open|  High|   Low| Close|  Volume|Adj Close|\n",
            "+-------------------+------+------+------+------+--------+---------+\n",
            "|2007-12-28 00:00:00|200.59|201.56|196.88|199.83|24987400|   199.83|\n",
            "+-------------------+------+------+------+------+--------+---------+\n",
            "\n"
          ]
        }
      ]
    },
    {
      "cell_type": "markdown",
      "source": [
        "# ***or***"
      ],
      "metadata": {
        "id": "zNt63z02NAI9"
      }
    },
    {
      "cell_type": "code",
      "source": [
        "df.filter((df['close'] < 200) | (df['open'] > 200) ).show() "
      ],
      "metadata": {
        "colab": {
          "base_uri": "https://localhost:8080/"
        },
        "id": "DzYQvoetMika",
        "outputId": "fb0f9d3b-5d5d-4eaa-87de-455c83154214"
      },
      "execution_count": 33,
      "outputs": [
        {
          "output_type": "stream",
          "name": "stdout",
          "text": [
            "+-------------------+------+------+------+------+--------+---------+\n",
            "|               Date|  Open|  High|   Low| Close|  Volume|Adj Close|\n",
            "+-------------------+------+------+------+------+--------+---------+\n",
            "|2008-10-14 00:00:00|116.26| 116.4|103.14|104.08|70749800|   104.08|\n",
            "|2008-10-13 00:00:00|104.55|110.53|101.02|110.26|54967000|   110.26|\n",
            "|2008-10-10 00:00:00|  85.7| 100.0|  85.0|  96.8|79260700|     96.8|\n",
            "|2008-10-09 00:00:00| 93.35|  95.8|  86.6| 88.74|57763700|    88.74|\n",
            "|2008-10-08 00:00:00| 85.91| 96.33| 85.68| 89.79|78847900|    89.79|\n",
            "|2008-10-07 00:00:00|100.48| 101.5| 88.95| 89.16|67099000|    89.16|\n",
            "|2008-10-06 00:00:00| 91.96| 98.78| 87.54| 98.14|75264900|    98.14|\n",
            "|2008-10-03 00:00:00| 104.0| 106.5| 94.65| 97.07|81942800|    97.07|\n",
            "|2008-10-02 00:00:00|108.01|108.79| 100.0| 100.1|57477300|    100.1|\n",
            "|2008-10-01 00:00:00|111.92|112.36|107.39|109.12|46303000|   109.12|\n",
            "|2008-09-30 00:00:00|108.25| 115.0| 106.3|113.66|58095800|   113.66|\n",
            "|2008-09-29 00:00:00|119.62|119.68|100.59|105.26|93581400|   105.26|\n",
            "|2008-09-26 00:00:00|124.91| 129.8| 123.0|128.24|40208700|   128.24|\n",
            "|2008-09-25 00:00:00| 129.8|134.79|128.52|131.93|35865600|   131.93|\n",
            "|2008-09-24 00:00:00|127.27|130.95|125.15|128.71|37393400|   128.71|\n",
            "|2008-09-23 00:00:00|131.85| 135.8|126.66|126.84|45727300|   126.84|\n",
            "|2008-09-22 00:00:00|139.94|140.25|130.66|131.05|30577300|   131.05|\n",
            "|2008-09-19 00:00:00| 142.6| 144.2|136.31|140.91|51102700|   140.91|\n",
            "|2008-09-18 00:00:00|130.57|135.43|120.68|134.09|59819300|   134.09|\n",
            "|2008-09-17 00:00:00|138.49|138.51|127.83|127.83|42847200|   127.83|\n",
            "+-------------------+------+------+------+------+--------+---------+\n",
            "only showing top 20 rows\n",
            "\n"
          ]
        }
      ]
    },
    {
      "cell_type": "markdown",
      "source": [
        "# ***not***"
      ],
      "metadata": {
        "id": "3lelilWlNFKH"
      }
    },
    {
      "cell_type": "code",
      "source": [
        "df.filter((df['close'] < 200) &~ (df['open'] > 200) ).show() "
      ],
      "metadata": {
        "colab": {
          "base_uri": "https://localhost:8080/"
        },
        "id": "G1r8Z4rrMxov",
        "outputId": "6cc1eb6d-6ec5-48d9-a99b-e4828a7457d5"
      },
      "execution_count": 34,
      "outputs": [
        {
          "output_type": "stream",
          "name": "stdout",
          "text": [
            "+-------------------+------+------+------+------+--------+---------+\n",
            "|               Date|  Open|  High|   Low| Close|  Volume|Adj Close|\n",
            "+-------------------+------+------+------+------+--------+---------+\n",
            "|2008-10-14 00:00:00|116.26| 116.4|103.14|104.08|70749800|   104.08|\n",
            "|2008-10-13 00:00:00|104.55|110.53|101.02|110.26|54967000|   110.26|\n",
            "|2008-10-10 00:00:00|  85.7| 100.0|  85.0|  96.8|79260700|     96.8|\n",
            "|2008-10-09 00:00:00| 93.35|  95.8|  86.6| 88.74|57763700|    88.74|\n",
            "|2008-10-08 00:00:00| 85.91| 96.33| 85.68| 89.79|78847900|    89.79|\n",
            "|2008-10-07 00:00:00|100.48| 101.5| 88.95| 89.16|67099000|    89.16|\n",
            "|2008-10-06 00:00:00| 91.96| 98.78| 87.54| 98.14|75264900|    98.14|\n",
            "|2008-10-03 00:00:00| 104.0| 106.5| 94.65| 97.07|81942800|    97.07|\n",
            "|2008-10-02 00:00:00|108.01|108.79| 100.0| 100.1|57477300|    100.1|\n",
            "|2008-10-01 00:00:00|111.92|112.36|107.39|109.12|46303000|   109.12|\n",
            "|2008-09-30 00:00:00|108.25| 115.0| 106.3|113.66|58095800|   113.66|\n",
            "|2008-09-29 00:00:00|119.62|119.68|100.59|105.26|93581400|   105.26|\n",
            "|2008-09-26 00:00:00|124.91| 129.8| 123.0|128.24|40208700|   128.24|\n",
            "|2008-09-25 00:00:00| 129.8|134.79|128.52|131.93|35865600|   131.93|\n",
            "|2008-09-24 00:00:00|127.27|130.95|125.15|128.71|37393400|   128.71|\n",
            "|2008-09-23 00:00:00|131.85| 135.8|126.66|126.84|45727300|   126.84|\n",
            "|2008-09-22 00:00:00|139.94|140.25|130.66|131.05|30577300|   131.05|\n",
            "|2008-09-19 00:00:00| 142.6| 144.2|136.31|140.91|51102700|   140.91|\n",
            "|2008-09-18 00:00:00|130.57|135.43|120.68|134.09|59819300|   134.09|\n",
            "|2008-09-17 00:00:00|138.49|138.51|127.83|127.83|42847200|   127.83|\n",
            "+-------------------+------+------+------+------+--------+---------+\n",
            "only showing top 20 rows\n",
            "\n"
          ]
        }
      ]
    },
    {
      "cell_type": "markdown",
      "source": [
        "***Q: \"Pick Date in which the lowest sale was 195\"***"
      ],
      "metadata": {
        "id": "UTrzk-foNTe4"
      }
    },
    {
      "cell_type": "code",
      "source": [
        "df.filter(df['Low'] == 120.68).select(['date', 'volume']).show()"
      ],
      "metadata": {
        "colab": {
          "base_uri": "https://localhost:8080/"
        },
        "id": "6M5Q3T2fNLLS",
        "outputId": "78b4e90a-4182-4733-a97a-944914fd9874"
      },
      "execution_count": 41,
      "outputs": [
        {
          "output_type": "stream",
          "name": "stdout",
          "text": [
            "+-------------------+--------+\n",
            "|               date|  volume|\n",
            "+-------------------+--------+\n",
            "|2008-09-18 00:00:00|59819300|\n",
            "+-------------------+--------+\n",
            "\n"
          ]
        }
      ]
    },
    {
      "cell_type": "markdown",
      "source": [
        "# ***Collect***\n",
        "\n",
        "\n",
        "*   Returns row objects inside a list\n",
        "* show can only be used to view a change, to have that changed data we must use collect instead of show to get that data to play around. \n"
      ],
      "metadata": {
        "id": "RW4_yorsOQgR"
      }
    },
    {
      "cell_type": "code",
      "source": [
        "result = df.filter(df['Low'] == 120.68).collect()"
      ],
      "metadata": {
        "id": "xhiVHGeoNgLE"
      },
      "execution_count": 44,
      "outputs": []
    },
    {
      "cell_type": "code",
      "source": [
        "result"
      ],
      "metadata": {
        "colab": {
          "base_uri": "https://localhost:8080/"
        },
        "id": "BGHse771OvxX",
        "outputId": "9585cda0-f425-4ea6-cb31-190612109100"
      },
      "execution_count": 45,
      "outputs": [
        {
          "output_type": "execute_result",
          "data": {
            "text/plain": [
              "[Row(Date=datetime.datetime(2008, 9, 18, 0, 0), Open=130.57, High=135.43, Low=120.68, Close=134.09, Volume=59819300, Adj Close=134.09)]"
            ]
          },
          "metadata": {},
          "execution_count": 45
        }
      ]
    },
    {
      "cell_type": "code",
      "source": [
        "result[0]"
      ],
      "metadata": {
        "colab": {
          "base_uri": "https://localhost:8080/"
        },
        "id": "MvyedYzRO3BJ",
        "outputId": "7e769f37-4d61-4439-b413-a119a218eb26"
      },
      "execution_count": 46,
      "outputs": [
        {
          "output_type": "execute_result",
          "data": {
            "text/plain": [
              "Row(Date=datetime.datetime(2008, 9, 18, 0, 0), Open=130.57, High=135.43, Low=120.68, Close=134.09, Volume=59819300, Adj Close=134.09)"
            ]
          },
          "metadata": {},
          "execution_count": 46
        }
      ]
    },
    {
      "cell_type": "markdown",
      "source": [
        "***we can change this result (row) object into a dictionary***"
      ],
      "metadata": {
        "id": "TBcD83ujPUoR"
      }
    },
    {
      "cell_type": "code",
      "source": [
        "row = result[0]"
      ],
      "metadata": {
        "id": "FdblOEhLPMBE"
      },
      "execution_count": 47,
      "outputs": []
    },
    {
      "cell_type": "code",
      "source": [
        "dictionary_row = row.asDict()"
      ],
      "metadata": {
        "id": "tycO7HL4PFkG"
      },
      "execution_count": 48,
      "outputs": []
    },
    {
      "cell_type": "code",
      "source": [
        "dictionary_row"
      ],
      "metadata": {
        "colab": {
          "base_uri": "https://localhost:8080/"
        },
        "id": "jeINF8ToPjMo",
        "outputId": "e322ca32-ee02-45fe-cd5a-fce0b9df679d"
      },
      "execution_count": 49,
      "outputs": [
        {
          "output_type": "execute_result",
          "data": {
            "text/plain": [
              "{'Date': datetime.datetime(2008, 9, 18, 0, 0),\n",
              " 'Open': 130.57,\n",
              " 'High': 135.43,\n",
              " 'Low': 120.68,\n",
              " 'Close': 134.09,\n",
              " 'Volume': 59819300,\n",
              " 'Adj Close': 134.09}"
            ]
          },
          "metadata": {},
          "execution_count": 49
        }
      ]
    },
    {
      "cell_type": "code",
      "source": [
        "dictionary_row['Date']"
      ],
      "metadata": {
        "colab": {
          "base_uri": "https://localhost:8080/"
        },
        "id": "4-UVPghSPlM-",
        "outputId": "7cf6d7a9-b2ef-4a0c-dd05-23416e131ad5"
      },
      "execution_count": 50,
      "outputs": [
        {
          "output_type": "execute_result",
          "data": {
            "text/plain": [
              "datetime.datetime(2008, 9, 18, 0, 0)"
            ]
          },
          "metadata": {},
          "execution_count": 50
        }
      ]
    },
    {
      "cell_type": "markdown",
      "source": [
        "# ***GroupBy and Aggregate functions***"
      ],
      "metadata": {
        "id": "KiuaK7QjXAJb"
      }
    },
    {
      "cell_type": "code",
      "source": [],
      "metadata": {
        "id": "b-E_LedmPo_l"
      },
      "execution_count": null,
      "outputs": []
    }
  ]
}